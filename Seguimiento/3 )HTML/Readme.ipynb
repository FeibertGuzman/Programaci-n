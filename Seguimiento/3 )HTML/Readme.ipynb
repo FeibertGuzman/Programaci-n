{
 "cells": [
  {
   "cell_type": "markdown",
   "metadata": {},
   "source": [
    "# Proyecto: Suma de Dos Números con Logo\n",
    "\n",
    "Este proyecto es una simple página web que permite sumar dos números proporcionados por el usuario y mostrar el resultado. Además, incluye un logotipo en la parte superior de la página.\n",
    "\n",
    "## Estructura del Proyecto\n",
    "\n",
    "El proyecto está compuesto por los siguientes archivos:\n",
    "\n",
    "- `index.html`: Contiene el HTML básico para la interfaz de usuario.\n",
    "- `style.css`: Archivo de estilos CSS que define el diseño y los colores de la página.\n",
    "- `logo_largo_u.png`: El logo de la página que se muestra en la parte superior.\n",
    "\n",
    "## Requisitos\n",
    "\n",
    "- Un navegador web actualizado.\n",
    "- Un editor de texto o IDE para modificar los archivos si es necesario (ej. Visual Studio Code, Sublime Text, Atom).\n",
    "\n",
    "## Instrucciones de uso\n",
    "\n",
    "1. Clona o descarga este repositorio en tu máquina local.\n",
    "   \n",
    "2. Asegúrate de que los siguientes archivos están en la misma carpeta:\n",
    "   - `index.html`\n",
    "   - `style.css`\n",
    "   - `logo_largo_u.png`\n",
    "\n",
    "3. Abre el archivo `index.html` en cualquier navegador.\n",
    "\n",
    "4. En la página, encontrarás dos campos de entrada donde podrás ingresar dos números. Después de ingresar los números, haz clic en el botón **Sumar** para ver el resultado.\n",
    "\n",
    "## Detalles del código\n",
    "\n",
    "### HTML (index.html)\n",
    "\n",
    "El archivo `index.html` contiene la estructura básica de la página. Incluye:\n",
    "- Un formulario con dos entradas de tipo numérico para que el usuario ingrese los valores.\n",
    "- Un botón que activa la suma de los números mediante JavaScript.\n",
    "- Una imagen (`logo_largo_u.png`) que muestra un logotipo en la parte superior.\n",
    "\n",
    "```html\n",
    "<img src=\"logo_largo_u.png\" alt=\"Logo Unilasallista\" class=\"logo\">\n"
   ]
  },
  {
   "cell_type": "code",
   "execution_count": null,
   "metadata": {
    "vscode": {
     "languageId": "plaintext"
    }
   },
   "outputs": [],
   "source": [
    "body {\n",
    "    background: linear-gradient(135deg, #FF5722, #FF9800);\n",
    "    display: flex;\n",
    "    justify-content: center;\n",
    "    align-items: center;\n",
    "    height: 100vh;\n",
    "}"
   ]
  },
  {
   "cell_type": "code",
   "execution_count": null,
   "metadata": {
    "vscode": {
     "languageId": "plaintext"
    }
   },
   "outputs": [],
   "source": [
    "function sumNumbers() {\n",
    "    var num1 = parseFloat(document.getElementById('num1').value);\n",
    "    var num2 = parseFloat(document.getElementById('num2').value);\n",
    "    var sum = num1 + num2;\n",
    "    \n",
    "    document.getElementById('result').textContent = \"Resultado: \" + sum;\n",
    "}"
   ]
  }
 ],
 "metadata": {
  "language_info": {
   "name": "python"
  }
 },
 "nbformat": 4,
 "nbformat_minor": 2
}
