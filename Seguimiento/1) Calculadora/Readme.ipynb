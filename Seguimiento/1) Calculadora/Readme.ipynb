{
 "cells": [
  {
   "cell_type": "markdown",
   "metadata": {},
   "source": [
    "# Calculadora con Tkinter\n",
    "\n",
    "## Descripción\n",
    "\n",
    "Este proyecto es una Calculadora construida con la librería `Tkinter` de Python. Lo que hace es realizar operaciones matemáticas comunes como suma, resta, multiplicación, división, además de funciones más avanzadas como el cálculo del Mínimo Común Múltiplo (MCM) y el Máximo Común Divisor (MCD). La interfaz gráfica incluye un menú de operaciones, un campo para mostrar los resultados y un historial de operaciones.\n",
    "\n",
    "### Personalización:\n",
    "- Cambio de color de fondo: El usuario puede elegir el color de fondo de la calculadora utilizando un selector de color. El color del texto cambia automáticamente a blanco o negro según el fondo seleccionado, para asegurar una buena visibilidad.\n",
    "  \n",
    "### Historial de operaciones:\n",
    "- Todas las operaciones realizadas se guardan en una lista de historial que se muestra en la parte inferior de la ventana.\n",
    "\n",
    "## Requisitos\n",
    "\n",
    "Este proyecto solo necesita Python 3.x y la biblioteca `Tkinter` que viene incluida con las distribuciones estándar de Python. Además, se utiliza la función `gcd` de la librería estándar `math` para calcular el **MCD**."
   ]
  }
 ],
 "metadata": {
  "language_info": {
   "name": "python"
  }
 },
 "nbformat": 4,
 "nbformat_minor": 2
}
