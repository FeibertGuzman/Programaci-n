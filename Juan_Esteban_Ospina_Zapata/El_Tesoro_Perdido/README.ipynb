{
 "cells": [
  {
   "cell_type": "markdown",
   "metadata": {},
   "source": [
    "# Juego de Aventuras: El Tesoro Perdido\n",
    "### Desarrollado por: `Juan Esteban Ospina`.\n",
    "\n",
    "Este es un juego de aventuras simple donde el jugador debe encontrar un tesoro en un laberinto mientras evita obstáculos y enemigos. El juego está desarrollado en Python utilizando la biblioteca `tkinter`.\n"
   ]
  },
  {
   "cell_type": "markdown",
   "metadata": {},
   "source": [
    "## Objetivo del Juego\n",
    "\n",
    "El objetivo es mover al jugador a través de un laberinto y encontrar el tesoro mientras evitas colisiones con obstáculos y enemigos."
   ]
  },
  {
   "cell_type": "markdown",
   "metadata": {},
   "source": [
    "## Estructura del juego:\n",
    "\n",
    "1. **Definiciones de constantes:**\n",
    "    - *`SIZE`:* Dimensiones del laberinto.\n",
    "    - *`PLAYER`*: Representación del jugador.\n",
    "    - *`TREASURE`*: Representación del tesoro.\n",
    "    - *`OBSTACLE`*: Representación de obstáculos.\n",
    "    - *`ENEMY`*: Representación de enemigos.\n",
    "    - *`EMPTY`*: Espacios vacíos en el laberinto.\n",
    "\n",
    "2. **Clases:**\n",
    "    - *`Game`:* Cñase principal que gestiona la lógica del juego."
   ]
  },
  {
   "cell_type": "markdown",
   "metadata": {},
   "source": [
    "## Implementación\n",
    "El código se puede observar en el archivo `index.py`"
   ]
  },
  {
   "cell_type": "markdown",
   "metadata": {},
   "source": [
    "## Futuras mejoras\n",
    "1. Agregar más niveles de dificultad.\n",
    "2. Implementar un sistema de puntuación.\n",
    "3. Incluir poderes especiales para el jugador."
   ]
  }
 ],
 "metadata": {
  "language_info": {
   "name": "python"
  }
 },
 "nbformat": 4,
 "nbformat_minor": 2
}
