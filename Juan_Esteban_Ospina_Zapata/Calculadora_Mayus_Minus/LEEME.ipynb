{
 "cells": [
  {
   "cell_type": "markdown",
   "metadata": {},
   "source": [
    "# Convertidor de Texto en Jupyter Notebook\n",
    "\n",
    "Este Jupyter Notebook es una sencilla aplicación que permite convertir texto ingresado en diferentes formatos utilizando la biblioteca Tkinter. Los usuarios pueden elegir entre varias opciones para transformar su texto de la manera que deseen.\n",
    "\n",
    "## Funcionalidades\n",
    "\n",
    "La aplicación ofrece las siguientes conversiones:\n",
    "\n",
    "1. **Convertir a Mayúsculas**: Cambia todo el texto ingresado a mayúsculas.\n",
    "2. **Convertir a Minúsculas**: Cambia todo el texto ingresado a minúsculas.\n",
    "3. **Convertir la Primera Letra en Mayúscula**: Convierte solo la primera letra del texto a mayúscula.\n",
    "4. **Capitalizar Primeras Letras de Cada Palabra**: Convierte la primera letra de cada palabra en el texto a mayúscula.\n",
    "\n",
    "## Requisitos\n",
    "\n",
    "Asegúrate de tener instalados los siguientes paquetes:\n",
    "\n",
    "- Python (con Tkinter, que generalmente viene incluido)\n",
    "- Jupyter Notebook\n",
    "\n",
    "Puedes instalar Jupyter Notebook utilizando pip:\n",
    "\n",
    "```bash\n",
    "pip install notebook\n"
   ]
  }
 ],
 "metadata": {
  "language_info": {
   "name": "python"
  }
 },
 "nbformat": 4,
 "nbformat_minor": 2
}
