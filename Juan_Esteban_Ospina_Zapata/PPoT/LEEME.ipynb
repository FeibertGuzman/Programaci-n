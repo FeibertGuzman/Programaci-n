{
 "cells": [
  {
   "cell_type": "markdown",
   "metadata": {},
   "source": [
    "# Juego de Piedra, Papel o Tijera\n",
    "\n",
    "Este proyecto es una aplicación de escritorio en Python que permite jugar al clásico juego de Piedra, Papel o Tijera contra la computadora. Utiliza la biblioteca Tkinter para crear una interfaz gráfica de usuario sencilla y atractiva.\n",
    "\n",
    "## Descripción\n",
    "\n",
    "El juego permite a los usuarios elegir entre piedra, papel o tijera, y compite contra la computadora. El primer jugador en alcanzar 6 victorias gana el juego. \n",
    "\n",
    "## Funcionalidades\n",
    "\n",
    "- El usuario puede seleccionar su opción (Piedra, Papel o Tijera).\n",
    "- La computadora elige aleatoriamente su opción.\n",
    "- Se muestra el resultado de cada ronda y el marcador actualizado.\n",
    "- El juego se reinicia una vez que un jugador alcanza 6 victorias.\n",
    "\n",
    "## Requisitos\n",
    "\n",
    "Asegúrate de tener Python instalado en tu sistema. Este proyecto utiliza:\n",
    "\n",
    "- Tkinter (generalmente incluido en las instalaciones estándar de Python)\n",
    "- random (módulo estándar de Python)\n",
    "\n",
    "## Instalación\n",
    "\n",
    "1. Clona este repositorio o descarga el archivo Python que contiene el código del juego.\n",
    "2. Abre una terminal o consola y navega al directorio donde guardaste el archivo.\n",
    "3. Ejecuta el siguiente comando:\n",
    "\n",
    "   ```bash\n",
    "   python nombre_del_archivo.py\n"
   ]
  }
 ],
 "metadata": {
  "language_info": {
   "name": "python"
  }
 },
 "nbformat": 4,
 "nbformat_minor": 2
}
