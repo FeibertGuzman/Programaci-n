{
 "cells": [
  {
   "cell_type": "markdown",
   "metadata": {},
   "source": [
    "# Calculador de Multiplicación\n",
    "\n",
    "Este proyecto es una aplicación web sencilla que permite a los usuarios multiplicar tres números. Utiliza HTML, CSS (Bootstrap) y JavaScript para crear una interfaz de usuario atractiva y funcional.\n",
    "\n",
    "## Descripción\n",
    "\n",
    "La aplicación permite al usuario ingresar tres números y calcular su producto. La interfaz está diseñada utilizando Bootstrap para asegurar que sea responsiva y fácil de usar.\n",
    "\n",
    "## Estructura del Proyecto\n",
    "\n",
    "- **index.html**: El archivo principal que contiene la estructura HTML de la aplicación.\n",
    "- **css/style.css**: Archivo de estilos CSS para personalizar la apariencia de la aplicación.\n",
    "- **img/**: Carpeta que contiene las imágenes utilizadas en la aplicación (logotipos, etc.).\n",
    "- **js/script.js**: Archivo JavaScript donde se encuentra la lógica para calcular la multiplicación y manejar la interacción del usuario.\n",
    "\n",
    "## Requisitos\n",
    "\n",
    "No se requieren dependencias especiales más allá de un navegador web moderno. La aplicación utiliza:\n",
    "\n",
    "- [Bootstrap 5.3.3](https://getbootstrap.com/) para estilos responsivos.\n",
    "- [SweetAlert2](https://sweetalert2.github.io/) para alertas estilizadas.\n",
    "\n",
    "## Instalación\n",
    "\n",
    "1. Clona este repositorio o descarga los archivos.\n",
    "2. Abre el archivo `index.html` en tu navegador web.\n",
    "\n",
    "## Uso\n",
    "\n",
    "1. Ingresa tres números en los campos de entrada proporcionados.\n",
    "2. Haz clic en el botón \"Calcular\" para obtener el producto de los tres números.\n",
    "3. Se mostrará el resultado a través de una alerta.\n",
    "\n",
    "## Contribuciones\n",
    "\n",
    "Las contribuciones son bienvenidas. Si deseas mejorar el proyecto, siéntete libre de enviar un pull request.\n",
    "\n",
    "## Licencia\n",
    "\n",
    "Este proyecto está bajo la Licencia MIT. Puedes utilizar, modificar y distribuir este software con la atribución correspondiente.\n",
    "\n",
    "## Contacto\n",
    "\n",
    "Para cualquier pregunta o sugerencia, puedes contactarme a través de [tu correo electrónico] o abrir un issue en este repositorio.\n",
    "\n",
    "¡Disfruta multiplicando tus números!\n"
   ]
  }
 ],
 "metadata": {
  "kernelspec": {
   "display_name": "Python 3",
   "language": "python",
   "name": "python3"
  },
  "language_info": {
   "codemirror_mode": {
    "name": "ipython",
    "version": 3
   },
   "file_extension": ".py",
   "mimetype": "text/x-python",
   "name": "python",
   "nbconvert_exporter": "python",
   "pygments_lexer": "ipython3",
   "version": "3.12.4"
  }
 },
 "nbformat": 4,
 "nbformat_minor": 2
}
