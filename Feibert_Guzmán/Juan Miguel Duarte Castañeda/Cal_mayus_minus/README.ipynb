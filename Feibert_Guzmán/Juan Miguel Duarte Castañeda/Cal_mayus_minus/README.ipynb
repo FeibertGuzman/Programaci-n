{
 "cells": [
  {
   "cell_type": "markdown",
   "metadata": {},
   "source": [
    "# Convertidor de Texto con Tkinter\n",
    "\n",
    "Este es un programa simple en Python que utiliza la biblioteca `Tkinter` para crear una interfaz gráfica de usuario (GUI) que permite convertir texto en diferentes formatos: mayúsculas, minúsculas, capitalización de la primera letra y capitalización de la primera letra de cada palabra.\n",
    "\n",
    "## Características\n",
    "\n",
    "- Convertir texto a **mayúsculas**.\n",
    "- Convertir texto a **minúsculas**.\n",
    "- Convertir la **primera letra** de una cadena en mayúscula.\n",
    "- **Capitalizar** la primera letra de cada palabra de una cadena.\n",
    "\n",
    "## Requisitos\n",
    "\n",
    "- Python 3.x\n",
    "- Biblioteca Tkinter (viene preinstalada con Python en la mayoría de las distribuciones).\n",
    "\n",
    "## Instrucciones para usar el programa\n",
    "\n",
    "1. Asegúrate de tener Python instalado en tu computadora.\n",
    "2. Crea un archivo `.py` y copia el código del programa en ese archivo.\n",
    "3. Ejecuta el archivo Python en tu terminal o entorno de desarrollo preferido.\n",
    "4. Aparecerá una ventana que te permitirá ingresar un texto y elegir cómo deseas convertirlo.\n",
    "\n",
    "### Funcionalidad de los botones\n",
    "\n",
    "- **Convertir a Mayúsculas**: Convierte todo el texto ingresado en la entrada de texto a letras mayúsculas.\n",
    "- **Convertir a Minúsculas**: Convierte todo el texto ingresado en la entrada de texto a letras minúsculas.\n",
    "- **Convertir la Primera letra en Mayúscula**: Convierte solo la primera letra de la cadena ingresada en mayúscula.\n",
    "- **Capitalizar Primeras Letras de Cada Palabra**: Convierte la primera letra de cada palabra de la cadena ingresada en mayúscula.\n",
    "\n",
    "## Ejecución del programa\n",
    "\n",
    "Para ejecutar el programa, abre una terminal y ejecuta el siguiente comando:\n",
    "\n",
    "```bash\n",
    "python nombre_del_archivo.py\n"
   ]
  }
 ],
 "metadata": {
  "language_info": {
   "name": "python"
  }
 },
 "nbformat": 4,
 "nbformat_minor": 2
}
