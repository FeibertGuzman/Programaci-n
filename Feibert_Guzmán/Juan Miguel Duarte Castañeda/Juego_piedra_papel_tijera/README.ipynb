{
 "cells": [
  {
   "cell_type": "markdown",
   "metadata": {},
   "source": [
    "# Juego de Piedra, Papel o Tijera\n",
    "\n",
    "Este es un sencillo juego de \"Piedra, Papel o Tijera\" donde puedes competir contra la computadora. El jugador elige una de las tres opciones y la computadora selecciona una al azar. El juego se juega durante 10 rondas y al final se muestra el ganador.\n",
    "\n",
    "## Cómo Jugar\n",
    "\n",
    "1. Clona este repositorio o descarga el archivo `juego.py`.\n",
    "2. Asegúrate de tener Python instalado en tu sistema.\n",
    "3. Ejecuta el script con el siguiente comando en tu terminal:\n",
    "\n",
    "   ```bash\n",
    "   python juego.py\n"
   ]
  },
  {
   "cell_type": "markdown",
   "metadata": {},
   "source": [
    "Reglas del Juego\n",
    "\n",
    "Piedra vence a Tijera (Piedra aplasta Tijera).\n",
    "Tijera vence a Papel (Tijera corta Papel).\n",
    "Papel vence a Piedra (Papel envuelve Piedra).\n",
    "\n",
    "Si ambos jugadores eligen la misma opción, es un empate.\n",
    "\n",
    "Requisitos\n",
    "Python 3.x\n",
    "\n",
    "Licencia\n",
    "Este proyecto está bajo la Licencia MIT. Puedes usarlo como desees."
   ]
  }
 ],
 "metadata": {
  "language_info": {
   "name": "python"
  }
 },
 "nbformat": 4,
 "nbformat_minor": 2
}
