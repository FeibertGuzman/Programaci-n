{
 "cells": [
  {
   "cell_type": "markdown",
   "metadata": {},
   "source": [
    "# Calculadora en Tkinter\n",
    "\n",
    "Este es un proyecto de calculadora básica construido con Python y Tkinter. Permite realizar operaciones matemáticas simples y también calcula el Máximo Común Divisor (MCD) y el Mínimo Común Múltiplo (MCM) de dos números enteros.\n",
    "\n",
    "## Características\n",
    "\n",
    "- Suma\n",
    "- Resta\n",
    "- Multiplicación\n",
    "- División\n",
    "- Valor Absoluto\n",
    "- Máximo Común Divisor (MCD)\n",
    "- Mínimo Común Múltiplo (MCM)\n",
    "- Historial de operaciones realizadas\n",
    "\n",
    "## Requisitos\n",
    "\n",
    "- Python 3.x\n",
    "- Tkinter (generalmente incluido en las instalaciones de Python)\n",
    "\n",
    "## Instalación\n",
    "\n",
    "1. Asegúrate de tener Python 3.x instalado en tu sistema. Puedes descargarlo desde [python.org](https://www.python.org/downloads/).\n",
    "2. Clona este repositorio o descarga el archivo `calculadora.py`.\n",
    "\n",
    "   ```bash\n",
    "   git clone <URL del repositorio>\n"
   ]
  },
  {
   "cell_type": "markdown",
   "metadata": {},
   "source": [
    "Uso\n",
    "\n",
    "Ingresa un número en el campo \"Número 1\".\n",
    "\n",
    "Si estás realizando una operación que lo requiere, ingresa un segundo número en \"Número 2\".\n",
    "\n",
    "Selecciona la operación deseada desde el menú \"Operaciones\".\n",
    "\n",
    "El resultado se mostrará en el cuadro de texto de \"Resultado\".\n",
    "\n",
    "Todas las operaciones realizadas se guardarán en el historial."
   ]
  },
  {
   "cell_type": "markdown",
   "metadata": {},
   "source": [
    "Licencia\n",
    "Este proyecto está bajo la Licencia MIT."
   ]
  }
 ],
 "metadata": {
  "language_info": {
   "name": "python"
  }
 },
 "nbformat": 4,
 "nbformat_minor": 2
}
