{
 "cells": [
  {
   "cell_type": "markdown",
   "metadata": {},
   "source": [
    "# Conversor de Texto en Python\n",
    "\n",
    "Este proyecto es un conversor de texto simple desarrollado en Python utilizando la biblioteca Tkinter. Permite convertir texto ingresado a mayúsculas o minúsculas y limpiar el campo de entrada.\n",
    "\n",
    "## Características\n",
    "\n",
    "- Interfaz gráfica de usuario (GUI) intuitiva.\n",
    "- Funcionalidad para convertir texto a mayúsculas y minúsculas.\n",
    "- Opción para limpiar el texto ingresado y el resultado.\n",
    "- Visualización del resultado de las conversiones.\n",
    "\n",
    "## Requisitos\n",
    "\n",
    "- Python 3.x\n",
    "- Tkinter (generalmente incluido con Python)\n",
    "\n",
    "## Cómo Ejecutar\n",
    "\n",
    "1. Asegúrate de tener Python instalado en tu sistema.\n",
    "2. Guarda el código en un archivo llamado `conversor_texto.py`.\n",
    "3. Abre una terminal o línea de comandos y navega a la ubicación del archivo.\n",
    "4. Ejecuta el siguiente comando:\n",
    "\n",
    "   ```bash\n",
    "   python conversor_texto.py\n"
   ]
  }
 ],
 "metadata": {
  "language_info": {
   "name": "python"
  }
 },
 "nbformat": 4,
 "nbformat_minor": 2
}
